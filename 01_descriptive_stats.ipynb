{
 "cells": [
  {
   "cell_type": "markdown",
   "id": "cfdd6f84",
   "metadata": {},
   "source": [
    "\n",
    "# 📊 Statistiques descriptives appliquées aux signaux physiologiques  \n",
    "*(Descriptive Statistics for Physiological Signals)*\n",
    "\n",
    "---\n",
    "\n",
    "### 📝 À propos\n",
    "Ce notebook fait partie du projet **biomed-stats-notebooks**, destiné à l'enseignement et à la vulgarisation des méthodes statistiques appliquées aux données biomédicales.\n",
    "\n",
    "- ✍️ **Adaptation & traduction (FR):** Dr. Amel  \n",
    "- 🌍 **Communauté:** DSN Francophone AI  \n",
    "- 📚 **Source originale / Inspiration:** Synthetic example created for educational purposes  \n",
    "- 📄 **Licence:** MIT  \n",
    "\n",
    "---\n",
    "\n",
    "### 🎯 Objectifs pédagogiques\n",
    "- Comprendre et appliquer les statistiques descriptives aux signaux physiologiques.  \n",
    "- Illustrer les concepts avec des exemples concrets (signal simulé de type ECG).  \n",
    "- Fournir un support bilingue (EN/FR) pour la communauté francophone.\n",
    "\n"
   ]
  },
  {
   "cell_type": "code",
   "execution_count": null,
   "id": "cfad7503",
   "metadata": {},
   "outputs": [],
   "source": [
    "\n",
    "import numpy as np\n",
    "import pandas as pd\n",
    "import matplotlib.pyplot as plt\n",
    "\n",
    "# For clean plots\n",
    "plt.style.use('seaborn-v0_8')\n"
   ]
  },
  {
   "cell_type": "code",
   "execution_count": null,
   "id": "26653b4e",
   "metadata": {},
   "outputs": [],
   "source": [
    "\n",
    "# Génération d'un signal physiologique synthétique (ECG-like)\n",
    "# Generate synthetic physiological signal (ECG-like waveform)\n",
    "\n",
    "np.random.seed(42)\n",
    "time = np.linspace(0, 10, 1000)\n",
    "signal = 0.6 * np.sin(2 * np.pi * 1.7 * time) + 0.2 * np.sin(2 * np.pi * 3.5 * time)\n",
    "signal += 0.05 * np.random.randn(len(time))  # ajout de bruit / add noise\n",
    "\n",
    "df = pd.DataFrame({\"time (s)\": time, \"signal\": signal})\n",
    "df.head()\n"
   ]
  },
  {
   "cell_type": "code",
   "execution_count": null,
   "id": "7e2b07d1",
   "metadata": {},
   "outputs": [],
   "source": [
    "\n",
    "# Visualisation du signal / Signal visualization\n",
    "plt.figure(figsize=(10,4))\n",
    "plt.plot(df[\"time (s)\"], df[\"signal\"], color=\"royalblue\")\n",
    "plt.title(\"Signal physiologique simulé (ECG-like)\")\n",
    "plt.xlabel(\"Temps (s) / Time (s)\")\n",
    "plt.ylabel(\"Amplitude\")\n",
    "plt.show()\n"
   ]
  },
  {
   "cell_type": "code",
   "execution_count": null,
   "id": "47b264d9",
   "metadata": {},
   "outputs": [],
   "source": [
    "\n",
    "# Statistiques descriptives / Descriptive statistics\n",
    "stats = df[\"signal\"].describe()\n",
    "stats\n"
   ]
  },
  {
   "cell_type": "markdown",
   "id": "286d67cf",
   "metadata": {},
   "source": [
    "\n",
    "### 📈 Interprétation / Interpretation\n",
    "- **Moyenne (Mean):** valeur moyenne du signal, proche de zéro ici car le signal est centré.  \n",
    "- **Écart-type (Std):** mesure de la dispersion des valeurs autour de la moyenne.  \n",
    "- **Min/Max:** valeurs extrêmes du signal simulé.  \n",
    "- **Quartiles (25%, 50%, 75%):** informations sur la distribution des valeurs.\n",
    "\n",
    "Ces statistiques descriptives constituent la première étape de l'analyse des signaux physiologiques avant des méthodes plus avancées (filtrage, PCA, apprentissage automatique, etc.).  \n"
   ]
  }
 ],
 "metadata": {},
 "nbformat": 4,
 "nbformat_minor": 5
}